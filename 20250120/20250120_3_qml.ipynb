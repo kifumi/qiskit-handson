{
 "cells": [
  {
   "attachments": {},
   "cell_type": "markdown",
   "metadata": {},
   "source": [
    "# 量子機械学習\n",
    "\n",
    "Kifumi Numata, IBM Quantum (Jan 20, 2025)"
   ]
  },
  {
   "cell_type": "markdown",
   "metadata": {},
   "source": [
    "Google Colab で行う場合は、次のセルの「#」を削除して実行します。"
   ]
  },
  {
   "cell_type": "code",
   "execution_count": null,
   "metadata": {},
   "outputs": [],
   "source": [
    "#!pip install qiskit qiskit-ibm-runtime qiskit-aer qiskit[visualization]\n",
    "#!pip install -U scikit-learn"
   ]
  },
  {
   "cell_type": "markdown",
   "metadata": {},
   "source": [
    "qBraid で行う場合は、右上の「Python 3[Default]」をクリックして「Python 3[QDC24]」を選択し、次のセルの「#」を削除して実行したあと、上部の「Kernel」→「Restart Kernel...」からカーネルをリスタートしてください。"
   ]
  },
  {
   "cell_type": "code",
   "execution_count": null,
   "metadata": {},
   "outputs": [],
   "source": [
    "#!pip install pylatexenc\n",
    "#!pip install -U scikit-learn"
   ]
  },
  {
   "cell_type": "code",
   "execution_count": null,
   "metadata": {},
   "outputs": [],
   "source": [
    "import qiskit\n",
    "qiskit.__version__"
   ]
  },
  {
   "cell_type": "markdown",
   "metadata": {},
   "source": [
    "### 目次:\n",
    "1. カーネル行列の要素\n",
    "2. 完全なカーネル行列\n",
    "3. 演習： 手書き文字の分類"
   ]
  },
  {
   "cell_type": "markdown",
   "metadata": {},
   "source": [
    "## 1. カーネル行列の要素\n",
    "\n",
    "### Step 1: 古典の入力を量子の問題にマッピングする\n",
    "\n",
    "\n",
    "まず、数個の特徴量（例えば4個）を持つデータセットを考えてみましょう。カーネル行列の要素を計算するために少なくとも2つのデータポイントが必要なので、まずそこから始め、必要なパッケージをいくつかインポートします："
   ]
  },
  {
   "cell_type": "code",
   "execution_count": null,
   "metadata": {},
   "outputs": [],
   "source": [
    "import pandas as pd\n",
    "import numpy as np\n",
    "import matplotlib.pyplot as plt\n",
    "\n",
    "# ラベルを含む学習用の2つのデータポイント\n",
    "small_data = [[-0.194,0.114,-0.006,0.301,1],[-0.1,0.002,0.244,0.127,-1]]\n",
    "\n",
    "# 内積計算のためにラベルを除去したデータ点\n",
    "train_data = [small_data[0][:-1],small_data[1][:-1]]"
   ]
  },
  {
   "cell_type": "markdown",
   "metadata": {},
   "source": [
    "### 符号化\n",
    "\n",
    "このデータを量子特徴量マップを使って量子状態に符号化(エンコード)します。`ZZFeatureMap`を試してみます。4量子ビットの場合、ZZFeaturemapの回路は以下のようになります。"
   ]
  },
  {
   "cell_type": "code",
   "execution_count": null,
   "metadata": {},
   "outputs": [],
   "source": [
    "from qiskit.circuit.library import ZZFeatureMap\n",
    "\n",
    "zz_fm = ZZFeatureMap(feature_dimension=np.shape(train_data)[1], entanglement='linear', reps=1)\n",
    "\n",
    "zz_fm.decompose().draw(\"mpl\", fold=-1)"
   ]
  },
  {
   "cell_type": "markdown",
   "metadata": {},
   "source": [
    "上記で用意した `train_data` を、ZZFeatureMapを使って量子状態にマッピングします。"
   ]
  },
  {
   "cell_type": "code",
   "execution_count": null,
   "metadata": {},
   "outputs": [],
   "source": [
    "unitary1 = zz_fm.assign_parameters(train_data[0])\n",
    "unitary2 = zz_fm.assign_parameters(train_data[1])\n",
    "\n",
    "unitary1.decompose().draw(\"mpl\", scale=0.6, fold=-1)"
   ]
  },
  {
   "cell_type": "markdown",
   "metadata": {},
   "source": [
    "次に、 `UnitaryOverlap` を使用して量子カーネル行列の1つの要素を計算する量子回路を作成します。また、回路のDepthを確認します。"
   ]
  },
  {
   "cell_type": "code",
   "execution_count": null,
   "metadata": {},
   "outputs": [],
   "source": [
    "from qiskit.circuit.library import UnitaryOverlap\n",
    "overlap_circ = UnitaryOverlap(unitary1, unitary2)\n",
    "overlap_circ.measure_all()\n",
    "\n",
    "print(\"circuit depth = \", overlap_circ.decompose().depth())\n",
    "overlap_circ.decompose().draw(\"mpl\", scale=0.6, fold=-1)"
   ]
  },
  {
   "cell_type": "markdown",
   "metadata": {},
   "source": [
    "回路が左右対称であることがわかります。左半分に学習データ `train_data[0]` 、右半分に学習データ `train_data[1]` がエンコードされています。"
   ]
  },
  {
   "cell_type": "markdown",
   "metadata": {},
   "source": [
    "### Step 2:  量子実行のための問題の最適化\n",
    "\n",
    "Aer Simulatorをバックエンドとして使い、上記の回路を最適化します。今回は、実機のバックエンドを使用しませんが、sampler が ZZFeatureMap を認識できないため、回路をトランスパイルする必要があります。"
   ]
  },
  {
   "cell_type": "code",
   "execution_count": null,
   "metadata": {},
   "outputs": [],
   "source": [
    "# シミュレーターを使います\n",
    "from qiskit_aer import AerSimulator\n",
    "backend = AerSimulator()\n",
    "\n",
    "# 回路を最適化します\n",
    "from qiskit.transpiler.preset_passmanagers import generate_preset_pass_manager\n",
    "pm = generate_preset_pass_manager(backend=backend, optimization_level=1)\n",
    "overlap_ibm = pm.run(overlap_circ)"
   ]
  },
  {
   "cell_type": "markdown",
   "metadata": {},
   "source": [
    "### Step 3: Qiskit Runtime Primitivesを使って実行する\n",
    "\n",
    "Qiskit Runtime Primitivesを使って回路を実行します。"
   ]
  },
  {
   "cell_type": "code",
   "execution_count": null,
   "metadata": {},
   "outputs": [],
   "source": [
    "# シミュレーターを使います\n",
    "from qiskit_ibm_runtime import Sampler\n",
    "num_shots = 10000\n",
    "sampler = Sampler(mode=backend)\n",
    "results = sampler.run([overlap_ibm], shots=num_shots).result()\n",
    "counts_bit = results[0].data.meas.get_counts()\n",
    "counts = results[0].data.meas.get_int_counts()\n",
    "\n",
    "print(counts_bit)"
   ]
  },
  {
   "cell_type": "markdown",
   "metadata": {},
   "source": [
    "### Step 4: 後処理を行い、古典の形式で結果を返す\n",
    "\n",
    "ここで最も有用となる測定は、ゼロの状態 $|0000\\rangle$ を測定する確率です。"
   ]
  },
  {
   "cell_type": "code",
   "execution_count": null,
   "metadata": {},
   "outputs": [],
   "source": [
    "counts.get(0, 0.0)/num_shots"
   ]
  },
  {
   "cell_type": "markdown",
   "metadata": {},
   "source": [
    "カーネル行列の要素の1つをこれで計算できました。次に、カーネル行列のすべての要素を計算します。"
   ]
  },
  {
   "cell_type": "markdown",
   "metadata": {},
   "source": [
    "## 2. 完全なカーネル行列\n",
    "\n",
    "このセクションでは、上記のプロセスを完全なデータセットの2値分類に拡張します。ここでの特徴量マップは、Qiskitの組み込みfeature mapを使わずに、自作します。完全なカーネル行列を作ったあと、古典の機械学習を実装し、学習精度のスコアを求めます。"
   ]
  },
  {
   "cell_type": "markdown",
   "metadata": {},
   "source": [
    "### Step 1: 古典の入力を量子の問題にマッピングする\n",
    "ここで、分類のために既存のデータセットをインポートします。このデータセットは128行（データポイント）と各ポイントにおける14個の特徴量からなります。また、各ポイントにはバイナリーのカテゴリー ($\\pm 1$) を示す15番目の要素があります。データセットは以下でインポートされます。また、[ここ](https://github.com/qiskit-community/prototype-quantum-kernel-training/blob/main/data/dataset_graph7.csv)からデータセットにアクセスしてその構造を見ることもできます。\n",
    "\n",
    "128のデータポイントのうち、最初の60データポイントを学習に使い、次の20ポイントをテストに使います。"
   ]
  },
  {
   "cell_type": "code",
   "execution_count": null,
   "metadata": {},
   "outputs": [],
   "source": [
    "!wget https://raw.githubusercontent.com/qiskit-community/prototype-quantum-kernel-training/main/data/dataset_graph7.csv\n",
    "\n",
    "df = pd.read_csv(\"dataset_graph7.csv\", sep=\",\", header=None)\n",
    "\n",
    "# 学習データの準備\n",
    "train_size = 60\n",
    "X_train=df.values[0:train_size,:-1]\n",
    "train_labels = df.values[0:train_size,-1]\n",
    "\n",
    "# テストデータの準備\n",
    "test_size = 20\n",
    "X_test=df.values[train_size:train_size+test_size,:-1]\n",
    "test_labels=df.values[train_size:train_size+test_size,-1]"
   ]
  },
  {
   "cell_type": "markdown",
   "metadata": {},
   "source": [
    "出力を格納するために、空のカーネル行列と、適切な次元の空のテスト用カーネル行列を作ります。"
   ]
  },
  {
   "cell_type": "code",
   "execution_count": null,
   "metadata": {},
   "outputs": [],
   "source": [
    "# 空のカーネル行列\n",
    "num_samples = np.shape(X_train)[0]\n",
    "kernel_matrix = np.full((num_samples, num_samples), np.nan) # 60x60の学習用カーネル行列\n",
    "test_matrix = np.full((test_size, num_samples), np.nan) # 20x60のテスト用カーネル行列"
   ]
  },
  {
   "cell_type": "markdown",
   "metadata": {},
   "source": [
    "次に、古典データを量子回路に符号化するための特徴量マップを自作します。"
   ]
  },
  {
   "cell_type": "code",
   "execution_count": null,
   "metadata": {},
   "outputs": [],
   "source": [
    "from qiskit.circuit import Parameter, ParameterVector, QuantumCircuit\n",
    "\n",
    "# overlapを計算するための特徴量の準備\n",
    "num_features = np.shape(X_train)[1] #14\n",
    "num_qubits = int(num_features / 2) #7\n",
    "\n",
    "# カスタムのfeature mapでは、以下の行をエンタングルメントさせます\n",
    "entangler_map = [[0, 2], [3, 4], [2, 5], [1, 4], [2, 3], [4, 6]]\n",
    "\n",
    "fm = QuantumCircuit(num_qubits)\n",
    "training_param = Parameter(\"θ\")\n",
    "feature_params = ParameterVector(\"x\", num_qubits * 2)\n",
    "fm.ry(training_param, fm.qubits) # pi/2回転なのでHゲートと等価\n",
    "for cz in entangler_map:\n",
    "    fm.cz(cz[0], cz[1])\n",
    "for i in range(num_qubits):\n",
    "    fm.rz(-2 * feature_params[2 * i + 1], i)\n",
    "    fm.rx(-2 * feature_params[2 * i], i)"
   ]
  },
  {
   "cell_type": "code",
   "execution_count": null,
   "metadata": {},
   "outputs": [],
   "source": [
    "fm.draw(\"mpl\") # 各qubitに2つのデータをエンコードするため7qubit回路"
   ]
  },
  {
   "cell_type": "markdown",
   "metadata": {},
   "source": [
    "### Step 2 & 3: 問題を最適化し、primitiveを使って実行する\n",
    "\n",
    "Overlap回路を作ります。カーネル行列は対角に対して対称なので、同じ計算は繰り返さないようにすることで、計算回数は二分の一に減らせます。また、ノイズがない場合は対角要素が1となるため、今回は対角要素を計算せず、1を代入します。(60×60×1/2-60)要素と(20×60)要素の合計2920要素を計算するので、以下のセルは実行にすこし時間がかかります。"
   ]
  },
  {
   "cell_type": "code",
   "execution_count": null,
   "metadata": {},
   "outputs": [],
   "source": [
    "num_shots = 1000\n",
    "\n",
    "backend = AerSimulator()\n",
    "sampler = Sampler(mode=backend)\n",
    "\n",
    "\n",
    "for x1 in range(0,train_size):\n",
    "    for x2 in range(x1+1,train_size):\n",
    "        unitary1 = fm.assign_parameters(list(X_train[x1]) + [np.pi / 2])\n",
    "        unitary2 = fm.assign_parameters(list(X_train[x2]) + [np.pi / 2])\n",
    "\n",
    "        # Overlap回路の作成\n",
    "        overlap_circ = UnitaryOverlap(unitary1, unitary2)\n",
    "        overlap_circ.measure_all()\n",
    "    \n",
    "        # Qiskit sampler primitiveの実行\n",
    "        counts = (\n",
    "            sampler.run([overlap_circ], shots=num_shots).result()[0].data.meas.get_int_counts()\n",
    "        )\n",
    "\n",
    "        # |0>状態の確率をカーネル行列の要素に入れ、転置された要素にも同じ確率を入れます。\n",
    "        kernel_matrix[x1, x2] = counts.get(0, 0.0)/num_shots\n",
    "        kernel_matrix[x2, x1] = counts.get(0, 0.0)/num_shots\n",
    "    # 確率の内積なので、対角線上の要素を1で埋めます\n",
    "    kernel_matrix[x1,x1] =1    \n",
    "\n",
    "print(\"training done\")\n",
    "\n",
    "# 上記と同様のプロセスをテストデータを使って行う\n",
    "for x1 in range(0,test_size):\n",
    "    for x2 in range(0,train_size):\n",
    "        unitary1 = fm.assign_parameters(list(X_test[x1]) + [np.pi / 2])\n",
    "        unitary2 = fm.assign_parameters(list(X_train[x2]) + [np.pi / 2])\n",
    "\n",
    "        # Overlap回路の作成\n",
    "        overlap_circ = UnitaryOverlap(unitary1, unitary2)\n",
    "        overlap_circ.measure_all()\n",
    "    \n",
    "        counts = (\n",
    "            sampler.run([overlap_circ], shots=num_shots).result()[0].data.meas.get_int_counts()\n",
    "        )\n",
    "\n",
    "        test_matrix[x1, x2] = counts.get(0, 0.0)/num_shots\n",
    "\n",
    "print(\"test matrix done\")"
   ]
  },
  {
   "cell_type": "markdown",
   "metadata": {},
   "source": [
    "2つのカーネル行列を見てみましょう。"
   ]
  },
  {
   "cell_type": "code",
   "execution_count": null,
   "metadata": {},
   "outputs": [],
   "source": [
    "fig, axs = plt.subplots(1, 2, figsize=(10, 5))\n",
    "axs[0].imshow(np.asmatrix(kernel_matrix),\n",
    "              interpolation='nearest', origin='upper', cmap='Blues')\n",
    "axs[0].set_title(\"kernel matrix\")\n",
    "axs[1].imshow(np.asmatrix(test_matrix),\n",
    "              interpolation='nearest', origin='upper', cmap='Reds')\n",
    "axs[1].set_title(\"test matrix\")\n",
    "plt.show()"
   ]
  },
  {
   "cell_type": "markdown",
   "metadata": {},
   "source": [
    "### Step 4: 後処理を行い、古典の形式で結果を返す\n",
    "\n",
    "量子カーネル法からカーネル行列と同様の形式の test_matrix が得られたので、古典の機械学習アルゴリズムを適用してテストデータの予測を行い、その精度をチェックすることができます。まず、Scikit-Learnの`sklearn.svc`、サポートベクトル分類器（SVC）をインポートします。SVC に事前に計算したカーネルを使わせたい場合は、`kernel = precomputed` を使って指定します。"
   ]
  },
  {
   "cell_type": "code",
   "execution_count": null,
   "metadata": {},
   "outputs": [],
   "source": [
    "# 古典の機械学習パッケージからサポートベクトル分類器をインポート\n",
    "from sklearn.svm import SVC\n",
    "\n",
    "# 事前に計算されたカーネル行列を使用することを指定\n",
    "qml_svc = SVC(kernel=\"precomputed\")"
   ]
  },
  {
   "cell_type": "markdown",
   "metadata": {},
   "source": [
    "`SVC.fit` を使って、カーネル行列と学習用ラベルを入力し、fitを得ることができます。`SVC.predict` は test_matrix を使ってテストデータのラベルを予測します。`SVC.score` はテストデータをスコアリングして精度を返します。"
   ]
  },
  {
   "cell_type": "code",
   "execution_count": null,
   "metadata": {},
   "outputs": [],
   "source": [
    "# 事前に計算された行列と学習データのラベルを入力。古典アルゴリズムがfitを行います。\n",
    "qml_svc.fit(kernel_matrix, train_labels)\n",
    "\n",
    "# 学習データとテストデータのカーネル行列を用いてテストデータのラベルを予測します。\n",
    "label_predict = qml_svc.predict(test_matrix)\n",
    "print(label_predict, test_labels, sep=\"\\n\")\n",
    "\n",
    "# テストデータの行列とテストラベルを入力として、.scoreを使ってデータをテストします。\n",
    "qml_score_precomputed_kernel = qml_svc.score(test_matrix, test_labels)\n",
    "print(f\"Precomputed kernel classification test score: {qml_score_precomputed_kernel}\")"
   ]
  },
  {
   "cell_type": "markdown",
   "metadata": {},
   "source": [
    "学習したモデルの精度は100%でした。これは素晴らしいことで、QKE(Quantum Kernel Estimation)が機能することを示しています。しかし、これは量子の優位性ではありません。古典カーネルでも、おそらくこの分類問題を100%の精度で解くことができるでしょう。現在のユーティリティ時代に量子カーネルが最も役立つのはどこなのか、さまざまなデータタイプやデータ関係を特徴づけるためにやるべきことはたくさんあります。量子特徴量マップを変更してその有効性を研究してみてください。"
   ]
  },
  {
   "cell_type": "markdown",
   "metadata": {},
   "source": [
    "## 3. 演習: 手書き文字の分類\n",
    "\n",
    "次に、手書き数字画像データセット（MNISTデータセット）から`0`と`1`の部分集合を扱い、QKEを実行してみます。"
   ]
  },
  {
   "cell_type": "code",
   "execution_count": null,
   "metadata": {},
   "outputs": [],
   "source": [
    "# Scikit-learnのインポート\n",
    "from sklearn import datasets\n",
    "from sklearn.model_selection import train_test_split \n",
    "from sklearn.svm import SVC \n",
    "from sklearn.decomposition import PCA # Principal component analysis(主成分分析)\n",
    "from sklearn.preprocessing import StandardScaler, MinMaxScaler "
   ]
  },
  {
   "cell_type": "markdown",
   "metadata": {},
   "source": [
    "### Step 1: 古典の入力を量子の問題にマッピングする"
   ]
  },
  {
   "cell_type": "code",
   "execution_count": null,
   "metadata": {},
   "outputs": [],
   "source": [
    "# 数値データセットから2つのクラス（0と1）のデータをロードする\n",
    "digits = datasets.load_digits(n_class=2)   \n",
    "\n",
    "# ロードした最初の10個の画像をプロット\n",
    "fig, axes = plt.subplots(1, 10, figsize=(15, 15), subplot_kw={'xticks':[], 'yticks':[]}, gridspec_kw=dict(hspace=0.5, wspace=0.5))\n",
    "for i, ax in enumerate(axes.flat):\n",
    "    ax.set_axis_off()\n",
    "    ax.imshow(digits.images[i], cmap=plt.cm.gray_r, interpolation='nearest')\n",
    "    ax.set_title(digits.target[i])"
   ]
  },
  {
   "cell_type": "markdown",
   "metadata": {},
   "source": [
    "以下のデータ配列に`0` が見えるかもしれません。0は白、16が黒に対応しています。"
   ]
  },
  {
   "cell_type": "code",
   "execution_count": null,
   "metadata": {},
   "outputs": [],
   "source": [
    "print(digits.images[0])"
   ]
  },
  {
   "cell_type": "markdown",
   "metadata": {},
   "source": [
    "このデータセットには、合計360個のデータが含まれています。各データポイントは、8×8の数字の画像で、配列になっていて、各要素は0（白）から16（黒）までの整数です。古典的な分類アルゴリズムの際と同様に、データセットを学習用（25個）とテスト用（10個）のサンプルに分割し、正規化する必要があります。このデータセットを量子分類アルゴリズムに用いるために、範囲を-1から1の間にスケーリングし、次元を使用する量子ビット数（今回は4）に縮小します。"
   ]
  },
  {
   "cell_type": "code",
   "execution_count": null,
   "metadata": {},
   "outputs": [],
   "source": [
    "# データセットの分割\n",
    "sample_train, sample_test, labels_train, labels_test = train_test_split(\n",
    "     digits.data, digits.target, test_size=0.4, random_state=22)\n",
    "\n",
    "# 次元削除\n",
    "n_dim = 4\n",
    "pca = PCA(n_components=n_dim).fit(sample_train)\n",
    "sample_train = pca.transform(sample_train)\n",
    "sample_test = pca.transform(sample_test)\n",
    "\n",
    "# 正規化\n",
    "std_scale = StandardScaler().fit(sample_train)\n",
    "sample_train = std_scale.transform(sample_train)\n",
    "sample_test = std_scale.transform(sample_test)\n",
    "\n",
    "# スケーリング\n",
    "samples = np.append(sample_train, sample_test, axis=0)\n",
    "minmax_scale = MinMaxScaler((-1, 1)).fit(samples)\n",
    "sample_train = minmax_scale.transform(sample_train)\n",
    "sample_test = minmax_scale.transform(sample_test)\n",
    "\n",
    "# 学習用25個とテスト用10個を選択\n",
    "train_size = 25\n",
    "X_train = sample_train[:train_size]\n",
    "train_labels = labels_train[:train_size]\n",
    "\n",
    "test_size = 10\n",
    "X_test = sample_test[:test_size]\n",
    "test_labels = labels_test[:test_size]"
   ]
  },
  {
   "cell_type": "code",
   "execution_count": null,
   "metadata": {},
   "outputs": [],
   "source": [
    "# 一つ目のデータを表示\n",
    "print(X_test[0])"
   ]
  },
  {
   "cell_type": "markdown",
   "metadata": {},
   "source": [
    "### 演習 1: \n",
    "\n",
    "ZZFeamtureMapを使って特徴量マップの回路を作ってください。(ZZFeaturemapはこのNotebookの最初で使っています。)"
   ]
  },
  {
   "cell_type": "code",
   "execution_count": null,
   "metadata": {},
   "outputs": [],
   "source": [
    "from qiskit.circuit.library import ZFeatureMap\n",
    "fm = ??? # 特徴量マップの回路を作ってください。\n",
    "\n",
    "unitary1 = fm.assign_parameters(X_train[0]) # Featuremap次第では更新が必要かもしれません\n",
    "unitary2 = fm.assign_parameters(X_train[1]) # Featuremap次第では更新が必要かもしれません\n",
    "\n",
    "unitary1.decompose().draw(\"mpl\", scale=0.6, fold=-1)"
   ]
  },
  {
   "cell_type": "code",
   "execution_count": null,
   "metadata": {},
   "outputs": [],
   "source": [
    "overlap_circ = UnitaryOverlap(unitary1, unitary2)\n",
    "overlap_circ.measure_all()\n",
    "\n",
    "print(\"circuit depth = \", overlap_circ.decompose().depth())\n",
    "overlap_circ.decompose().draw(\"mpl\", scale=0.6, fold=-1)"
   ]
  },
  {
   "cell_type": "code",
   "execution_count": null,
   "metadata": {},
   "outputs": [],
   "source": [
    "# 空のカーネル行列の作成\n",
    "num_samples = np.shape(X_train)[0]\n",
    "kernel_matrix = np.full((num_samples, num_samples), np.nan) # Matrix of 40x40\n",
    "test_matrix = np.full((test_size, num_samples), np.nan) # Matrix of 10x40"
   ]
  },
  {
   "cell_type": "markdown",
   "metadata": {},
   "source": [
    "### Step 2 & 3: 問題を最適化し、primitiveを使って実行する"
   ]
  },
  {
   "cell_type": "markdown",
   "metadata": {},
   "source": [
    "### 演習 2: \n",
    "\n",
    "UnitaryOverlapを計算するために必要な、unitary1とunitary2の回路のパラメーターにデータをアサインしてください。上の演習で作った、featuremapを使います。"
   ]
  },
  {
   "cell_type": "code",
   "execution_count": null,
   "metadata": {},
   "outputs": [],
   "source": [
    "num_shots = 1000\n",
    "\n",
    "backend = AerSimulator()\n",
    "sampler = Sampler(mode=backend)\n",
    "\n",
    "\n",
    "for x1 in range(0,train_size):\n",
    "    for x2 in range(x1+1,train_size):\n",
    "        unitary1 = ?? # fmのパラメーターにデータをアサインしてください\n",
    "        unitary2 = ?? # fmのパラメーターにデータをアサインしてください\n",
    "\n",
    "        # Overlap回路の作成\n",
    "        overlap_circ = UnitaryOverlap(unitary1, unitary2)\n",
    "        overlap_circ.measure_all()\n",
    "\n",
    "        # 回路の最適化\n",
    "        pm = generate_preset_pass_manager(optimization_level=3, backend=backend)\n",
    "        overlap_ibm = pm.run(overlap_circ)\n",
    "    \n",
    "        # Qiskit sampler primitiveの実行\n",
    "        counts = (\n",
    "            sampler.run([overlap_ibm], shots=num_shots).result()[0].data.meas.get_int_counts()\n",
    "        )\n",
    "\n",
    "         # |0>状態の確率をカーネル行列の要素に入れ、転置された要素にも同じ確率を入れます。\n",
    "        kernel_matrix[x1, x2] = counts.get(0, 0.0)/num_shots\n",
    "        kernel_matrix[x2, x1] = counts.get(0, 0.0)/num_shots\n",
    "    # 確率の内積なので、対角線上の要素を1で埋めます\n",
    "    kernel_matrix[x1,x1] =1    \n",
    "\n",
    "print(\"training done\")\n",
    "\n",
    "# 上記と同様のプロセスをテストデータを使って行う\n",
    "for x1 in range(0,test_size):\n",
    "    for x2 in range(0,train_size):\n",
    "        unitary1 = ?? # fmのパラメーターにデータをアサインしてください\n",
    "        unitary2 = ?? # fmのパラメーターにデータをアサインしてください        \n",
    "\n",
    "        # Overlap回路の作成\n",
    "        overlap_circ = UnitaryOverlap(unitary1, unitary2)\n",
    "        overlap_circ.measure_all()\n",
    "\n",
    "        # 回路の最適化\n",
    "        pm = generate_preset_pass_manager(optimization_level=3, backend=backend)\n",
    "        overlap_ibm = pm.run(overlap_circ)\n",
    "    \n",
    "        counts = (\n",
    "            sampler.run([overlap_ibm], shots=num_shots).result()[0].data.meas.get_int_counts()\n",
    "        )\n",
    "\n",
    "        test_matrix[x1, x2] = counts.get(0, 0.0)/num_shots\n",
    "\n",
    "print(\"test matrix done\")"
   ]
  },
  {
   "cell_type": "markdown",
   "metadata": {},
   "source": [
    "kernel_matrixとtest_matrixを見てみましょう。"
   ]
  },
  {
   "cell_type": "code",
   "execution_count": null,
   "metadata": {},
   "outputs": [],
   "source": [
    "fig, axs = plt.subplots(1, 2, figsize=(10, 5))\n",
    "axs[0].imshow(np.asmatrix(kernel_matrix),\n",
    "              interpolation='nearest', origin='upper', cmap='Blues')\n",
    "axs[0].set_title(\"training kernel matrix\")\n",
    "axs[1].imshow(np.asmatrix(test_matrix),\n",
    "              interpolation='nearest', origin='upper', cmap='Reds')\n",
    "axs[1].set_title(\"testing kernel matrix\")\n",
    "plt.show()"
   ]
  },
  {
   "cell_type": "markdown",
   "metadata": {},
   "source": [
    "### Step 4: 後処理を行い、古典の形式で結果を返す\n",
    "\n",
    "古典機械学習のアルゴリズムを適用して、テストデータの予測を行い、その精度をチェックします。"
   ]
  },
  {
   "cell_type": "code",
   "execution_count": null,
   "metadata": {},
   "outputs": [],
   "source": [
    "# 事前に計算されたカーネル行列を使用することを指定\n",
    "qml_svc = SVC(kernel=\"precomputed\")\n",
    "\n",
    "# 事前に計算された行列と学習データのラベルを入力。古典アルゴリズムがfitを行います。\n",
    "qml_svc.fit(kernel_matrix, train_labels)\n",
    "\n",
    "# 学習データとテストデータのカーネル行列を用いてテストデータのラベルを予測します。\n",
    "label_predict = qml_svc.predict(test_matrix)\n",
    "print(label_predict, test_labels, sep=\"\\n\")\n",
    "\n",
    "# テストデータの行列とテストラベルを入力として、.scoreを使ってデータをテストします。\n",
    "qml_score_precomputed_kernel = qml_svc.score(test_matrix, test_labels)\n",
    "print(f\"Precomputed kernel classification test score: {qml_score_precomputed_kernel}\")"
   ]
  },
  {
   "cell_type": "markdown",
   "metadata": {},
   "source": [
    "スコアはどうでしたか？もし時間があれば、他のfeaturemapも試してみてください。"
   ]
  },
  {
   "cell_type": "markdown",
   "metadata": {},
   "source": [
    "## 参考：実機で実行する場合 (無料枠を使い切ってしまうので実行しないでください)\n",
    "\n",
    "実機で実行するには、バックエンドに実機を指定して、実機に合わせてトランスパイルすると実行可能です。が、実験にとても時間がかかり、無料枠を使い切ってしまうので、実行しないでください。また、実行の前に、回路の深さを浅くする努力も必要です。"
   ]
  },
  {
   "cell_type": "code",
   "execution_count": null,
   "metadata": {},
   "outputs": [],
   "source": [
    "from qiskit_ibm_runtime import QiskitRuntimeService\n",
    "\n",
    "# If this is your first time running your circuit on a real device, \n",
    "# make sure you copy your API Token from [IBM Quantum Platform](https://quantum.ibm.com/) \n",
    "# QiskitRuntimeService.save_account(channel='ibm_quantum', token='<your_token>', overwrite=True)\n",
    "\n",
    "service = QiskitRuntimeService(channel=\"ibm_quantum\")\n",
    "service.backends()"
   ]
  },
  {
   "cell_type": "code",
   "execution_count": null,
   "metadata": {},
   "outputs": [],
   "source": [
    "# You can specifiy the device \n",
    "backend = service.backend('ibm_sherbrooke')"
   ]
  },
  {
   "cell_type": "code",
   "execution_count": null,
   "metadata": {},
   "outputs": [],
   "source": [
    "#You can also identify the least busy device\n",
    "backend = service.least_busy(operational=True)\n",
    "print(\"The least busy device is \", backend)"
   ]
  }
 ],
 "metadata": {
  "kernelspec": {
   "display_name": "Python 3 (ipykernel)",
   "language": "python",
   "name": "python3"
  },
  "language_info": {
   "codemirror_mode": {
    "name": "ipython",
    "version": 3
   },
   "file_extension": ".py",
   "mimetype": "text/x-python",
   "name": "python",
   "nbconvert_exporter": "python",
   "pygments_lexer": "ipython3",
   "version": "3.12.3"
  }
 },
 "nbformat": 4,
 "nbformat_minor": 4
}
